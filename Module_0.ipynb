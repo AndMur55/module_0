{
 "cells": [
  {
   "cell_type": "code",
   "execution_count": 1,
   "metadata": {},
   "outputs": [],
   "source": [
    "import numpy as np\n",
    "\n",
    "predict = 0                         # Предполагаемое число \n",
    "number = np.random.randint(1,101)   # Загадали число  \n",
    "\n",
    "\n",
    "# Cоздаём функцию медианы\n",
    "def get_median(numbers_list):\n",
    "    length = len(numbers_list)\n",
    "   \n",
    "    if length % 2 == 0:\n",
    "    # Округляем результат до целого, так как нет смысла проверять дробное число\n",
    "        result = int((numbers_list[int(length / 2)] + numbers_list[int(length/2 - 1)]) / 2) \n",
    "        return result\n",
    "    \n",
    "    else:\n",
    "        result = numbers_list[int(length / 2)]\n",
    "        return result\n",
    "\n",
    "    \n",
    "# Создаём основное тело кода. \n",
    "# Решение аналогично принципу \"Ловли льва в пустыне\"\n",
    "def game(number):\n",
    "    \n",
    "    count = 0                                     # Счетчик попыток   \n",
    "    # Создаём список всех возможных решений\n",
    "    number_list_game = [x for x in range(1,101)]  \n",
    "    \n",
    "    while True:\n",
    "        count += 1           \n",
    "        predict = get_median(number_list_game)\n",
    "        \n",
    "        if number > predict:\n",
    "            # Отбрасываем лишние значения\n",
    "            number_list_game = list(filter(lambda x: x > predict, number_list_game))\n",
    "        \n",
    "        elif number < predict:\n",
    "            # Отбрасываем лишние значения\n",
    "            number_list_game = list(filter(lambda x: x < predict, number_list_game))\n",
    "        \n",
    "        elif number == predict:\n",
    "            return count                            # Выход из цикла\n",
    "            \n",
    "\n",
    "# Запускаем игру 1000 раз, чтобы узнать, как быстро игра угадывает число\n",
    "def score_game(game_core):\n",
    "    count_ls = []\n",
    "    np.random.seed(1)  # Фиксируем RANDOM SEED, чтобы эксперимент был воспроизводим!\n",
    "    random_array = np.random.randint(1,101, size=(1000))\n",
    "    for number in random_array:\n",
    "        count_ls.append(game_core(number))\n",
    "    score = int(np.mean(count_ls))\n",
    "    print('Алгоритм угадывает число в среднем за', score, 'попыток.')\n",
    "    return"
   ]
  },
  {
   "cell_type": "code",
   "execution_count": 2,
   "metadata": {},
   "outputs": [
    {
     "name": "stdout",
     "output_type": "stream",
     "text": [
      "Алгоритм угадывает число в среднем за 5 попыток.\n"
     ]
    }
   ],
   "source": [
    "score_game(game)"
   ]
  }
 ],
 "metadata": {
  "kernelspec": {
   "display_name": "Python 3",
   "language": "python",
   "name": "python3"
  },
  "language_info": {
   "codemirror_mode": {
    "name": "ipython",
    "version": 3
   },
   "file_extension": ".py",
   "mimetype": "text/x-python",
   "name": "python",
   "nbconvert_exporter": "python",
   "pygments_lexer": "ipython3",
   "version": "3.8.5"
  }
 },
 "nbformat": 4,
 "nbformat_minor": 4
}
